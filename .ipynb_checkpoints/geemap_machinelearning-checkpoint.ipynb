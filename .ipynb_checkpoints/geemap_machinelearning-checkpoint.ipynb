{
 "cells": [
  {
   "cell_type": "code",
   "execution_count": 1,
   "metadata": {},
   "outputs": [
    {
     "name": "stdout",
     "output_type": "stream",
     "text": [
      "Available kernels:\n",
      "  python3    /opt/miniconda3/envs/geegeo/share/jupyter/kernels/python3\n"
     ]
    }
   ],
   "source": [
    "!jupyter kernelspec list "
   ]
  },
  {
   "cell_type": "code",
   "execution_count": 93,
   "metadata": {},
   "outputs": [],
   "source": [
    "#python3    /opt/miniconda3/envs/gee/share/jupyter/kernels/python3"
   ]
  },
  {
   "cell_type": "code",
   "execution_count": 2,
   "metadata": {},
   "outputs": [],
   "source": [
    "import geemap\n",
    "import ee\n",
    "import geopandas"
   ]
  },
  {
   "cell_type": "code",
   "execution_count": 162,
   "metadata": {},
   "outputs": [],
   "source": [
    "Map = geemap.Map()"
   ]
  },
  {
   "cell_type": "code",
   "execution_count": 4,
   "metadata": {},
   "outputs": [],
   "source": [
    "#load local shapefile\n",
    "#heen_shp = '/data/countries.shp'\n",
    "#countries = geemap.shp_to_ee(countries_shp)\n",
    "#Map.addLayer(countries, {}, 'Countries')"
   ]
  },
  {
   "cell_type": "code",
   "execution_count": 163,
   "metadata": {},
   "outputs": [],
   "source": [
    "#for some reason ee.Initialize won't run unless the map is created probably to verify I have a GEE account\n",
    "point = ee.Geometry.Point([-134.895245,58.636281])\n",
    "image = ee.ImageCollection('LANDSAT/LC08/C01/T1_SR') \\\n",
    "    .filterBounds(point) \\\n",
    "    .filterDate('2020-03-01', '2020-10-31') \\\n",
    "    .sort('CLOUD_COVER') \\\n",
    "    .first() \\\n",
    "    .select('B[1-7]')\n",
    "\n",
    "vis_params = {\n",
    "    'min': 0,\n",
    "    'max': 3000,\n",
    "    'bands': ['B4', 'B3', 'B2']\n",
    "}"
   ]
  },
  {
   "cell_type": "code",
   "execution_count": 164,
   "metadata": {},
   "outputs": [],
   "source": [
    "# dem = 'HLEF_DEM_5m_Clip_fil_twiSLP.tif'"
   ]
  },
  {
   "cell_type": "code",
   "execution_count": 165,
   "metadata": {},
   "outputs": [],
   "source": [
    "#This doesn't work \n",
    "#Map.add_raster(dem, colormap='terrain', layer_name='DEM')"
   ]
  },
  {
   "cell_type": "code",
   "execution_count": 166,
   "metadata": {},
   "outputs": [
    {
     "data": {
      "text/plain": [
       "'2020-04-14'"
      ]
     },
     "execution_count": 166,
     "metadata": {},
     "output_type": "execute_result"
    }
   ],
   "source": [
    "ee.Date(image.get('system:time_start')).format('YYYY-MM-dd').getInfo()"
   ]
  },
  {
   "cell_type": "code",
   "execution_count": 167,
   "metadata": {},
   "outputs": [
    {
     "data": {
      "text/plain": [
       "2.18"
      ]
     },
     "execution_count": 167,
     "metadata": {},
     "output_type": "execute_result"
    }
   ],
   "source": [
    "image.get('CLOUD_COVER').getInfo()"
   ]
  },
  {
   "cell_type": "code",
   "execution_count": 168,
   "metadata": {},
   "outputs": [
    {
     "data": {
      "application/vnd.jupyter.widget-view+json": {
       "model_id": "d4a6e467944848258924fd8eb09f68eb",
       "version_major": 2,
       "version_minor": 0
      },
      "text/plain": [
       "Map(center=[58.63628099999999, -134.895245], controls=(WidgetControl(options=['position', 'transparent_bg'], w…"
      ]
     },
     "metadata": {},
     "output_type": "display_data"
    }
   ],
   "source": [
    "Map.centerObject(point, 8)\n",
    "Map.addLayer(image, vis_params, \"Landsat-8\")\n",
    "Map "
   ]
  },
  {
   "cell_type": "code",
   "execution_count": 169,
   "metadata": {},
   "outputs": [],
   "source": [
    "# feature = Map.draw_last_feature\n",
    "# feature"
   ]
  },
  {
   "cell_type": "code",
   "execution_count": 170,
   "metadata": {},
   "outputs": [
    {
     "data": {
      "text/plain": [
       "<ee.featurecollection.FeatureCollection at 0x7fe0b18d4940>"
      ]
     },
     "execution_count": 170,
     "metadata": {},
     "output_type": "execute_result"
    }
   ],
   "source": [
    "#roi = ee.FeatureCollection(feature)\n",
    "\n",
    "\n",
    "roi_shp = 'SEAK WIP/SEAK_outline.shp'\n",
    "roi = geemap.shp_to_ee(roi_shp)\n",
    "#Map.addLayer(countries, {}, 'Countries')\n",
    "\n",
    "\n",
    "roi"
   ]
  },
  {
   "cell_type": "code",
   "execution_count": 171,
   "metadata": {},
   "outputs": [
    {
     "data": {
      "text/plain": [
       "<ee.image.Image at 0x7fe0974f9a00>"
      ]
     },
     "execution_count": 171,
     "metadata": {},
     "output_type": "execute_result"
    }
   ],
   "source": [
    "#clipped landsat\n",
    "clipped_image = image.clip(roi)\n",
    "clipped_image"
   ]
  },
  {
   "cell_type": "code",
   "execution_count": 172,
   "metadata": {},
   "outputs": [],
   "source": [
    "#add\n",
    "Map.addLayer(clipped_image)"
   ]
  },
  {
   "cell_type": "markdown",
   "metadata": {},
   "source": [
    "## NLCD landcover"
   ]
  },
  {
   "cell_type": "code",
   "execution_count": 173,
   "metadata": {},
   "outputs": [],
   "source": [
    "# nlcd = ee.ImageCollection(\"USGS/NLCD_RELEASES/2016_REL\")#.select('landcover_class_names')#.clip(image.geometry())\n",
    "# nlcd2016 = nlcd.filter(ee.Filter.eq('system:index', '2016')).first()\n",
    "# nlcd_landcover = nlcd2016.select('landcover')\n",
    "# #nlcd_select = nlcd.select('landcover')\n",
    "# clipped_nlcd_landcover = nlcd_landcover.clip(roi)"
   ]
  },
  {
   "cell_type": "markdown",
   "metadata": {},
   "source": [
    "## Alaska Landcover"
   ]
  },
  {
   "cell_type": "code",
   "execution_count": 174,
   "metadata": {},
   "outputs": [
    {
     "data": {
      "text/plain": [
       "<ee.image.Image at 0x7fe0974f94c0>"
      ]
     },
     "execution_count": 174,
     "metadata": {},
     "output_type": "execute_result"
    }
   ],
   "source": [
    "ak_usgs = ee.Image('USGS/GAP/AK/2001')#.select('landcover').clip(roi)\n",
    "\n",
    "clipped_ak_usgs = ak_usgs.clip(roi)\n",
    "clipped_ak_usgs\n",
    "# visualization = {\n",
    "#   'bands': ['landcover'],\n",
    "#   'min': 1.0,\n",
    "#   'max': 143.0,\n",
    "# }\n",
    "\n",
    "# ak_land_clip = nlcd_landcover.clip(roi)"
   ]
  },
  {
   "cell_type": "code",
   "execution_count": 175,
   "metadata": {},
   "outputs": [],
   "source": [
    "Map.addLayer(clipped_ak_usgs, {}, 'AK USGS')\n"
   ]
  },
  {
   "cell_type": "code",
   "execution_count": 176,
   "metadata": {},
   "outputs": [],
   "source": [
    "points = clipped_ak_usgs.sample(**{\n",
    "    'region': roi, #not a .geometry method?\n",
    "    'scale': 30,\n",
    "    'numPixels': 5000,\n",
    "    'seed': 0,\n",
    "    'geometries': True  # Set this to False to ignore geometries\n",
    "})"
   ]
  },
  {
   "cell_type": "code",
   "execution_count": 177,
   "metadata": {},
   "outputs": [],
   "source": [
    "Map.addLayer(points, {}, 'training', True)"
   ]
  },
  {
   "cell_type": "code",
   "execution_count": 178,
   "metadata": {},
   "outputs": [
    {
     "data": {
      "text/plain": [
       "<ee.featurecollection.FeatureCollection at 0x7fe09614e4c0>"
      ]
     },
     "execution_count": 178,
     "metadata": {},
     "output_type": "execute_result"
    }
   ],
   "source": [
    "points"
   ]
  },
  {
   "cell_type": "code",
   "execution_count": 179,
   "metadata": {},
   "outputs": [
    {
     "name": "stdout",
     "output_type": "stream",
     "text": [
      "5000\n"
     ]
    }
   ],
   "source": [
    "print(points.size().getInfo())"
   ]
  },
  {
   "cell_type": "code",
   "execution_count": 180,
   "metadata": {},
   "outputs": [],
   "source": [
    "# Use these bands for prediction.\n",
    "bands = ['B1', 'B2', 'B3', 'B4', 'B5', 'B6', 'B7']\n",
    "\n",
    "\n",
    "# This property of the table stores the land cover labels.\n",
    "label = 'landcover'\n",
    "\n",
    "training = clipped_image.select(bands).sampleRegions(**{\n",
    "  'collection': points,\n",
    "  'properties': [label],\n",
    "  'scale': 30\n",
    "})\n",
    "\n",
    "# Train a CART classifier with default parameters.\n",
    "trained = ee.Classifier.smileCart().train(training, label, bands)"
   ]
  },
  {
   "cell_type": "code",
   "execution_count": 181,
   "metadata": {},
   "outputs": [
    {
     "name": "stdout",
     "output_type": "stream",
     "text": [
      "{'type': 'Feature', 'geometry': None, 'id': '0_0', 'properties': {'B1': 82, 'B2': 119, 'B3': 298, 'B4': 115, 'B5': 1597, 'B6': 440, 'B7': 199, 'landcover': 4}}\n"
     ]
    }
   ],
   "source": [
    "print(training.first().getInfo())"
   ]
  },
  {
   "cell_type": "code",
   "execution_count": 182,
   "metadata": {
    "tags": []
   },
   "outputs": [
    {
     "data": {
      "application/vnd.jupyter.widget-view+json": {
       "model_id": "d4a6e467944848258924fd8eb09f68eb",
       "version_major": 2,
       "version_minor": 0
      },
      "text/plain": [
       "Map(bottom=19818.0, center=[58.63628099999999, -134.895245], controls=(WidgetControl(options=['position', 'tra…"
      ]
     },
     "metadata": {},
     "output_type": "display_data"
    }
   ],
   "source": [
    "# Classify the image with the same bands used for training.\n",
    "result = clipped_image.select(bands).classify(trained)\n",
    "\n",
    "# # Display the clusters with random colors.\n",
    "Map.addLayer(result.randomVisualizer(), {}, 'classfied')\n",
    "Map\n",
    "\n"
   ]
  },
  {
   "cell_type": "code",
   "execution_count": 183,
   "metadata": {},
   "outputs": [],
   "source": [
    "legend_tbl = \"\"\"\n",
    "Value \tColor \tDescription\n",
    "1\tB0171F\tAlaskan Pacific Maritime Periglacial Woodland and Shrubland\n",
    "2\tDC143C\tAlaskan Pacific Maritime Sitka Spruce Beach Ridge\n",
    "3\tFFB6C1\tAlaskan Pacific Maritime Sitka Spruce Forest\n",
    "4\tFFAEB9\tAlaskan Pacific Maritime Western Hemlock Forest\n",
    "5\tEEA2AD\tNorth Pacific Hypermaritime Western Red-cedar-Western Hemlock Forest\n",
    "6\tCD8C95\tNorth Pacific Mesic Western Hemlock-Yellow-cedar Forest\n",
    "7\t8B5F65\tAlaska Sub-boreal Mountain Hemlock-White Spruce Forest\n",
    "8\tFFC0CB\tAlaskan Pacific Maritime Mountain Hemlock Forest\n",
    "9\tFFB5C5\tAlaskan Pacific Maritime Subalpine Mountain Hemlock Woodland\n",
    "10\tEEA9B8\tNorth Pacific Maritime Mesic Subalpine Parkland\n",
    "11\tCD919E\tAlaskan Pacific Maritime Floodplain Forest and Shrubland\n",
    "12\t8B636C\tAlaskan Pacific Maritime Poorly Drained Conifer Woodland\n",
    "13\tDB7093\tNorth Pacific Shrub Swamp\n",
    "14\tFF82AB\tAlaska Sub-boreal White Spruce-Hardwood Forest\n",
    "15\tEE799F\tAlaska Sub-boreal White-Lutz Spruce Forest and Woodland\n",
    "16\tCD6889\tAleutian Kenai Birch-Cottonwood-Poplar Forest\n",
    "17\t8B475D\tWestern North American Boreal Black Spruce Wet-Mesic Slope Woodland\n",
    "18\tFFF0F5\tWestern North American Boreal Mesic Birch-Aspen Forest\n",
    "19\tEEE0E5\tWestern North American Boreal Mesic Black Spruce Forest\n",
    "20\tCDC1C5\tWestern North American Boreal White Spruce Forest\n",
    "21\t8B8386\tWestern North American Boreal White Spruce-Hardwood Forest\n",
    "22\tFF3E96\tWestern North American Boreal Spruce-Lichen Woodland\n",
    "23\tEE3A8C\tWestern North American Boreal Subalpine Balsam Poplar-Aspen Woodland\n",
    "24\tCD3278\tWestern North American Boreal Treeline White Spruce Woodland\n",
    "25\t8B2252\tWestern North American Boreal Deciduous Shrub Swamp\n",
    "26\tFF69B4\tWestern North American Boreal Wet Black Spruce-Tussock Woodland\n",
    "27\tFF6EB4\tAleutian Floodplain Forest and Shrubland\n",
    "28\tEE6AA7\tWestern North American Boreal Lowland Large River Floodplain Forest and Shrubland\n",
    "29\tCD6090\tWestern North American Boreal Montane Floodplain Forest and Shrubland\n",
    "30\t8B3A62\tWestern North American Boreal Riparian Stringer Forest and Shrubland\n",
    "31\t872657\tAlaskan Pacific Maritime Avalanche Slope Shrubland\n",
    "32\tFF1493\tAlaskan Pacific Maritime Mesic Herbaceous Meadow\n",
    "33\tEE1289\tAlaskan Pacific Maritime Subalpine Alder-Salmonberry Shrubland\n",
    "34\tCD1076\tAleutian Mesic Alder-Salmonberry Shrubland\n",
    "35\t8B0A50\tAleutian Mesic Herbaceous Meadow\n",
    "36\tFF34B3\tAleutian Oval-leaf Blueberry Shrubland\n",
    "37\tEE30A7\tAlaska Arctic Active Inland Dune\n",
    "38\tCD2990\tAlaska Arctic Mesic Herbaceous Meadow\n",
    "39\t8B1C62\tAlaska Sub-boreal Avalanche Slope Shrubland\n",
    "40\tC71585\tAlaska Sub-boreal Mesic Subalpine Alder Shrubland\n",
    "41\tD02090\tAleutian Mesic-Wet Willow Shrubland\n",
    "42\tDA70D6\tWestern North American Boreal Active Inland Dune\n",
    "43\tFF83FA\tWestern North American Boreal Alpine Mesic Herbaceous Meadow\n",
    "44\tEE7AE9\tWestern North American Boreal Dry Aspen-Steppe Bluff\n",
    "45\tCD69C9\tWestern North American Boreal Dry Grassland\n",
    "46\t8B4789\tWestern North American Boreal Mesic Scrub Birch-Willow Shrubland\n",
    "47\tD8BFD8\tWestern North American Sub-boreal Mesic Bluejoint Meadow\n",
    "48\tFFE1FF\tAleutian American Dunegrass Grassland\n",
    "49\tEED2EE\tAleutian Marine Beach and Beach Meadow\n",
    "50\tCDB5CD\tAleutian Rocky Headland and Sea Cliff\n",
    "51\t8B7B8B\tAlaska Arctic Marine Beach and Beach Meadow\n",
    "52\tFFBBFF\tAlaska Arctic Dwarf-Shrub-Sphagnum Peatland\n",
    "53\tEEAEEE\tAlaska Arctic Wet Sedge-Sphagnum Peatland\n",
    "54\tCD96CD\tWestern North American Boreal Black Spruce Dwarf-Tree Peatland\n",
    "55\t8B668B\tWestern North American Boreal Black Spruce-Tamarack Fen\n",
    "56\tDDA0DD\tWestern North American Boreal Herbaceous Fen\n",
    "57\tEE82EE\tWestern North American Boreal Low Shrub Peatland\n",
    "58\tFF00FF\tWestern North American Boreal Sedge-Dwarf-Shrub Bog\n",
    "59\tEE00EE\tAlaskan Pacific Maritime Dwarf-shrub-Sphagnum Peatland\n",
    "60\tCD00CD\tAlaskan Pacific Maritime Mountain Hemlock Peatland\n",
    "61\t8B008B\tAlaskan Pacific Maritime Shore Pine Peatland\n",
    "62\t800080\tAlaskan Pacific Maritime Shrub and Herbaceous Floodplain Wetland\n",
    "63\tBA55D3\tAlaskan Pacific Maritime Wet Low Shrubland\n",
    "64\tE066FF\tAleutian Nonvascular Peatland\n",
    "65\tD15FEE\tAleutian Shrub-Sedge Peatland\n",
    "66\tB452CD\tAleutian Wet Meadow and Herbaceous Peatland\n",
    "67\t7A378B\tAleutian Floodplain Wetland\n",
    "68\t9400D3\tAleutian Freshwater Marsh\n",
    "69\t9932CC\tAleutian Shrub and Herbaceous Meadow Floodplain\n",
    "70\tBF3EFF\tWestern North American Boreal Freshwater Emergent Marsh\n",
    "71\tB23AEE\tWestern North American Boreal Shrub and Herbaceous Floodplain Wetland\n",
    "72\t9A32CD\tWestern North American Boreal Wet Meadow\n",
    "73\t68228B\tAlaskan Pacific Maritime Alpine Floodplain\n",
    "74\t4B0082\tAlaskan Pacific Maritime Alpine Wet Meadow\n",
    "75\t8A2BE2\tAlaskan Pacific Maritime Coastal Meadow and Slough-Levee\n",
    "76\t9B30FF\tAlaskan Pacific Maritime Fen and Wet Meadow\n",
    "77\t912CEE\tAlaskan Pacific Maritime Subalpine Copperbush Shrubland\n",
    "78\t7D26CD\tTemperate Pacific Freshwater Emergent Marsh\n",
    "79\t551A8B\tAlaska Arctic Coastal Brackish Meadow\n",
    "80\t9370DB\tAlaska Arctic Coastal Sedge-Dwarf-Shrubland\n",
    "81\tAB82FF\tAlaska Arctic Tidal Flat\n",
    "82\t9F79EE\tAlaska Arctic Tidal Marsh\n",
    "83\t8968CD\tAleutian Tidal Marsh\n",
    "84\t5D478B\tTemperate Pacific Tidal Salt and Brackish Marsh\n",
    "85\t483D8B\tAlaska Sub-boreal and Maritime Alpine Mesic Herbaceous Meadow\n",
    "86\t8470FF\tAlaskan Pacific Maritime Alpine Dwarf-Shrubland\n",
    "87\t7B68EE\tAlaskan Pacific Maritime Alpine Sparse Shrub and Fell-field\n",
    "88\t6A5ACD\tAleutian Crowberry-Herbaceous Heath\n",
    "89\t836FFF\tAleutian Mixed Dwarf-Shrub-Herbaceous Shrubland\n",
    "90\t7A67EE\tAleutian Sparse Heath and Fell-Field\n",
    "91\t6959CD\tAlaska Arctic Acidic Dryas Dwarf-Shrubland\n",
    "92\t473C8B\tAlaska Arctic Acidic Dwarf-Shrub Lichen Tundra\n",
    "93\tF8F8FF\tAlaska Arctic Acidic Sparse Tundra\n",
    "94\tE6E6FA\tAlaska Arctic Dwarf-Shrubland\n",
    "95\t0000FF\tAlaska Arctic Floodplain\n",
    "96\t0000EE\tAlaska Arctic Large River Floodplain\n",
    "97\t0000CD\tAlaska Arctic Lichen Tundra\n",
    "98\t00008B\tAlaska Arctic Mesic Alder Shrubland\n",
    "99\tDAF7A6 \tAlaska Arctic Mesic Sedge-Dryas Tundra\n",
    "100\t191970\tAlaska Arctic Mesic Sedge-Willow Tundra\n",
    "101\t3D59AB\tAlaska Arctic Mesic-Wet Willow Shrubland\n",
    "102\tDAF7B6 \tAlaska Arctic Non-Acidic Dryas Dwarf-Shrubland\n",
    "103\t4876FF\tAlaska Arctic Non-Acidic Dwarf-Shrub Lichen Tundra\n",
    "104\t436EEE\tAlaska Arctic Non-Acidic Sparse Tundra\n",
    "105\t3A5FCD\tAlaska Arctic Permafrost Plateau Dwarf-Shrub Lichen Tundra\n",
    "107\t27408B\tAlaska Arctic Scrub Birch-Ericaceous Shrubland\n",
    "108\t6495ED\tWestern North American Boreal Alpine Dryas Dwarf-Shrubland\n",
    "109\tB0C4DE\tWestern North American Boreal Alpine Dwarf-Shrub Summit\n",
    "110\tCAE1FF\tWestern North American Boreal Alpine Dwarf-Shrub-Lichen Shrubland\n",
    "111\tBCD2EE\tWestern North American Boreal Alpine Ericaceous Dwarf-Shrubland\n",
    "112\tA2B5CD\tWestern North American Boreal Alpine Floodplain\n",
    "113\t6E7B8B\tAlaska Arctic Pendantgrass Freshwater Marsh\n",
    "114\t778899\tAlaska Arctic Polygonal Ground Shrub-Tussock Tundra\n",
    "115\t708090\tAlaska Arctic Polygonal Ground Tussock Tundra\n",
    "116\tC6E2FF\tAlaska Arctic Polygonal Ground Wet Sedge Tundra\n",
    "117\tB9D3EE\tAlaska Arctic Sedge Freshwater Marsh\n",
    "118\t9FB6CD\tAlaska Arctic Shrub-Tussock Tundra\n",
    "119\t6C7B8B\tAlaska Arctic Tussock Tundra\n",
    "120\t1E90FF\tAlaska Arctic Tussock-Lichen Tundra\n",
    "121\t1C86EE\tAlaska Arctic Wet Sedge Meadow\n",
    "122\t1874CD\tWestern North American Boreal Low Shrub-Tussock Tundra\n",
    "123\t104E8B\tWestern North American Boreal Tussock Tundra\n",
    "124\tF0F8FF\tTemperate Pacific Intertidal Mudflat\n",
    "125\t4682B4\tNorth Pacific Maritime Eelgrass Bed\n",
    "126\t63B8FF\tAlaska Arctic Freshwater Aquatic Bed\n",
    "127\t5CACEE\tTemperate Pacific Freshwater Aquatic Bed\n",
    "128\t4F94CD\tWestern North American Boreal Freshwater Aquatic Bed\n",
    "129\t36648B\tAleutian Volcanic Rock and Talus\n",
    "130\t87CEFA\tAlaska Arctic Bedrock and Talus\n",
    "131\tB0E2FF\tWestern North American Boreal Alpine Talus and Bedrock\n",
    "132\tA4D3EE\tNorth Pacific Alpine and Subalpine Bedrock and Scree\n",
    "133\t8DB6CD\tSnow/Ice\n",
    "134\t607B8B\tUndifferentiated Barren Land\n",
    "135\t87CEFF\tCultivated Cropland\n",
    "136\t7EC0EE\tPasture/Hay\n",
    "137\t6CA6CD\tDeveloped, High Intensity\n",
    "138\t4A708B\tDeveloped, Low Intensity\n",
    "139\t87CEEB\tDeveloped, Medium Intensity\n",
    "140\t00BFFF\tDeveloped, Open Space\n",
    "141\t00B2EE\tRecently Burned-Tree Cover\n",
    "142\t009ACD\tOpen Water (Brackish/Salt)\n",
    "143\t00688B\tOpen Water (Fresh)\n",
    "\"\"\"\n",
    "legend_dict = geemap.legend_from_ee(legend_tbl)\n",
    "#Map.add_legend(legend_title=\"USGS\", legend_dict=legend_dict)\n"
   ]
  },
  {
   "cell_type": "code",
   "execution_count": 184,
   "metadata": {},
   "outputs": [],
   "source": [
    "class_values = ak_usgs.get('landcover_class_values').getInfo()"
   ]
  },
  {
   "cell_type": "code",
   "execution_count": 185,
   "metadata": {},
   "outputs": [
    {
     "data": {
      "text/plain": [
       "143"
      ]
     },
     "execution_count": 185,
     "metadata": {},
     "output_type": "execute_result"
    }
   ],
   "source": [
    "len(class_values)"
   ]
  },
  {
   "cell_type": "code",
   "execution_count": 186,
   "metadata": {},
   "outputs": [
    {
     "data": {
      "text/plain": [
       "143"
      ]
     },
     "execution_count": 186,
     "metadata": {},
     "output_type": "execute_result"
    }
   ],
   "source": [
    "class_palette = list(legend_dict.values())\n",
    "class_palette.append('00FFFF')\n",
    "len(class_palette)"
   ]
  },
  {
   "cell_type": "code",
   "execution_count": 187,
   "metadata": {},
   "outputs": [
    {
     "data": {
      "text/plain": [
       "<ee.image.Image at 0x7fe0974f98e0>"
      ]
     },
     "execution_count": 187,
     "metadata": {},
     "output_type": "execute_result"
    }
   ],
   "source": [
    "landcover = result.set('classification_class_values', class_values)\n",
    "landcover = landcover.set('classification_class_palette', class_palette)\n",
    "landcover"
   ]
  },
  {
   "cell_type": "code",
   "execution_count": 188,
   "metadata": {},
   "outputs": [
    {
     "data": {
      "application/vnd.jupyter.widget-view+json": {
       "model_id": "d4a6e467944848258924fd8eb09f68eb",
       "version_major": 2,
       "version_minor": 0
      },
      "text/plain": [
       "Map(bottom=19818.0, center=[58.63628099999999, -134.895245], controls=(WidgetControl(options=['position', 'tra…"
      ]
     },
     "metadata": {},
     "output_type": "display_data"
    }
   ],
   "source": [
    "Map.addLayer(landcover, {}, 'Land cover')\n",
    "Map"
   ]
  },
  {
   "cell_type": "code",
   "execution_count": 190,
   "metadata": {},
   "outputs": [],
   "source": [
    "\n",
    "\n",
    "#Map.add_legend(legend_dict)\n",
    "#Map\n",
    "\n"
   ]
  },
  {
   "cell_type": "code",
   "execution_count": 197,
   "metadata": {},
   "outputs": [],
   "source": [
    "import os\n",
    "out_dir = os.path.join('../teal_carbon_pydev/')\n",
    "out_file = os.path.join(out_dir, 'SEAKlandcover.tif')"
   ]
  },
  {
   "cell_type": "code",
   "execution_count": 198,
   "metadata": {},
   "outputs": [
    {
     "name": "stdout",
     "output_type": "stream",
     "text": [
      "Generating URL ...\n",
      "Downloading data from https://earthengine.googleapis.com/v1alpha/projects/earthengine-legacy/thumbnails/89970c48a5311ebe29ba88a1cc0e0682-a3bba8401ebfffc297972e7e3b47a136:getPixels\n",
      "Please wait ...\n",
      "Data downloaded to /Users/Anthony/Documents/University of Washington/Courses/ESS521/github/teal_carbon_pydev/SEAKlandcover.tif\n"
     ]
    }
   ],
   "source": [
    "geemap.ee_export_image(landcover, filename=out_file)"
   ]
  },
  {
   "cell_type": "code",
   "execution_count": null,
   "metadata": {},
   "outputs": [],
   "source": []
  }
 ],
 "metadata": {
  "kernelspec": {
   "display_name": "Python 3",
   "language": "python",
   "name": "python3"
  },
  "language_info": {
   "codemirror_mode": {
    "name": "ipython",
    "version": 3
   },
   "file_extension": ".py",
   "mimetype": "text/x-python",
   "name": "python",
   "nbconvert_exporter": "python",
   "pygments_lexer": "ipython3",
   "version": "3.9.5"
  }
 },
 "nbformat": 4,
 "nbformat_minor": 4
}
